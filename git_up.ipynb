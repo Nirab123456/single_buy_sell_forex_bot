{
 "cells": [
  {
   "cell_type": "code",
   "execution_count": 2,
   "metadata": {},
   "outputs": [
    {
     "name": "stderr",
     "output_type": "stream",
     "text": [
      "warning: in the working copy of 'git_up.ipynb', LF will be replaced by CRLF the next time Git touches it\n",
      "warning: in the working copy of 'single_forex_env.ipynb', LF will be replaced by CRLF the next time Git touches it\n",
      "warning: in the working copy of 'training_single_foex_1.00.ipynb', LF will be replaced by CRLF the next time Git touches it\n"
     ]
    },
    {
     "name": "stdout",
     "output_type": "stream",
     "text": [
      "[main 38d2921] update for v1.0.0\n",
      " 3 files changed, 7960 insertions(+), 11 deletions(-)\n",
      " create mode 100644 single_forex_env.ipynb\n",
      " create mode 100644 training_single_foex_1.00.ipynb\n"
     ]
    },
    {
     "name": "stderr",
     "output_type": "stream",
     "text": [
      "To https://github.com/Nirab123456/single_buy_sell_forex_bot.git\n",
      "   b5c9276..38d2921  main -> main\n"
     ]
    }
   ],
   "source": [
    "!git add .\n",
    "!git commit -m \"update for v1.0.0\"\n",
    "!git push \n",
    "#"
   ]
  }
 ],
 "metadata": {
  "kernelspec": {
   "display_name": "tf",
   "language": "python",
   "name": "python3"
  },
  "language_info": {
   "codemirror_mode": {
    "name": "ipython",
    "version": 3
   },
   "file_extension": ".py",
   "mimetype": "text/x-python",
   "name": "python",
   "nbconvert_exporter": "python",
   "pygments_lexer": "ipython3",
   "version": "3.8.16"
  }
 },
 "nbformat": 4,
 "nbformat_minor": 2
}
