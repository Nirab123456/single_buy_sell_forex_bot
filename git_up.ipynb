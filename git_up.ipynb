{
 "cells": [
  {
   "cell_type": "code",
   "execution_count": 1,
   "metadata": {},
   "outputs": [
    {
     "name": "stderr",
     "output_type": "stream",
     "text": [
      "warning: in the working copy of 'git_up.ipynb', LF will be replaced by CRLF the next time Git touches it\n",
      "warning: in the working copy of 'training_forex_re_env.ipynb', LF will be replaced by CRLF the next time Git touches it\n",
      "warning: in the working copy of 'data_analysis.ipynb', LF will be replaced by CRLF the next time Git touches it\n",
      "warning: in the working copy of 'training_forex_re_env_new.ipynb', LF will be replaced by CRLF the next time Git touches it\n",
      "warning: in the working copy of 'training_perfect_beta_V1.ipynb', LF will be replaced by CRLF the next time Git touches it\n"
     ]
    },
    {
     "name": "stdout",
     "output_type": "stream",
     "text": [
      "[main adfb02a] FOREXRL re-commit basic stractured v1.02\n",
      " 6 files changed, 17746 insertions(+), 49 deletions(-)\n",
      " create mode 100644 data_analysis.ipynb\n",
      " create mode 100644 training_forex_re_env_new.ipynb\n",
      " create mode 100644 training_perfect_beta_V1.ipynb\n"
     ]
    }
   ],
   "source": [
    "!git add .\n",
    "!git commit -m \"FOREXRL re-commit basic stractured v1.02\"\n",
    "!git push \n",
    "#"
   ]
  }
 ],
 "metadata": {
  "kernelspec": {
   "display_name": "tf",
   "language": "python",
   "name": "python3"
  },
  "language_info": {
   "codemirror_mode": {
    "name": "ipython",
    "version": 3
   },
   "file_extension": ".py",
   "mimetype": "text/x-python",
   "name": "python",
   "nbconvert_exporter": "python",
   "pygments_lexer": "ipython3",
   "version": "3.8.16"
  }
 },
 "nbformat": 4,
 "nbformat_minor": 2
}
