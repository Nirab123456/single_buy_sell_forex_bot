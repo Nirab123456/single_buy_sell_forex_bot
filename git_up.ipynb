{
 "cells": [
  {
   "cell_type": "code",
   "execution_count": 1,
   "metadata": {},
   "outputs": [
    {
     "name": "stderr",
     "output_type": "stream",
     "text": [
      "warning: in the working copy of 'git_up.ipynb', LF will be replaced by CRLF the next time Git touches it\n",
      "warning: in the working copy of 'training_single_foex_1.00.ipynb', LF will be replaced by CRLF the next time Git touches it\n",
      "warning: in the working copy of 'v1_test_run_data/logs/monitor.csv', LF will be replaced by CRLF the next time Git touches it\n",
      "warning: in the working copy of 'v1_test_run_data/training_single_foex_1.00.ipynb', LF will be replaced by CRLF the next time Git touches it\n"
     ]
    },
    {
     "name": "stdout",
     "output_type": "stream",
     "text": [
      "[main 3ac06cb] some  reward improvement and less restriction can improve the performance\n",
      " 18 files changed, 24943 insertions(+), 6363 deletions(-)\n",
      " create mode 100644 v1_test_run_data/logs/PPO_1/events.out.tfevents.1700958161.rifat.16680.3\n",
      " create mode 100644 v1_test_run_data/logs/events.out.tfevents.1700958161.rifat.16680.0\n",
      " create mode 100644 v1_test_run_data/logs/events.out.tfevents.1700958161.rifat.16680.1\n",
      " create mode 100644 v1_test_run_data/logs/events.out.tfevents.1700958161.rifat.16680.2\n",
      " create mode 100644 v1_test_run_data/logs/monitor.csv\n",
      " create mode 100644 v1_test_run_data/train_modeldata/best_model_10000.zip\n",
      " create mode 100644 v1_test_run_data/train_modeldata/best_model_100000.zip\n",
      " create mode 100644 v1_test_run_data/train_modeldata/best_model_20000.zip\n",
      " create mode 100644 v1_test_run_data/train_modeldata/best_model_30000.zip\n",
      " create mode 100644 v1_test_run_data/train_modeldata/best_model_40000.zip\n",
      " create mode 100644 v1_test_run_data/train_modeldata/best_model_50000.zip\n",
      " create mode 100644 v1_test_run_data/train_modeldata/best_model_60000.zip\n",
      " create mode 100644 v1_test_run_data/train_modeldata/best_model_70000.zip\n",
      " create mode 100644 v1_test_run_data/train_modeldata/best_model_80000.zip\n",
      " create mode 100644 v1_test_run_data/train_modeldata/best_model_90000.zip\n",
      " create mode 100644 v1_test_run_data/training_single_foex_1.00.ipynb\n"
     ]
    },
    {
     "name": "stderr",
     "output_type": "stream",
     "text": [
      "To https://github.com/Nirab123456/single_buy_sell_forex_bot.git\n",
      "   38d2921..3ac06cb  main -> main\n"
     ]
    }
   ],
   "source": [
    "!git add .\n",
    "!git commit -m \"some  reward improvement and less restriction can improve the performance\"\n",
    "!git push \n",
    "#"
   ]
  }
 ],
 "metadata": {
  "kernelspec": {
   "display_name": "tf",
   "language": "python",
   "name": "python3"
  },
  "language_info": {
   "codemirror_mode": {
    "name": "ipython",
    "version": 3
   },
   "file_extension": ".py",
   "mimetype": "text/x-python",
   "name": "python",
   "nbconvert_exporter": "python",
   "pygments_lexer": "ipython3",
   "version": "3.8.16"
  }
 },
 "nbformat": 4,
 "nbformat_minor": 2
}
